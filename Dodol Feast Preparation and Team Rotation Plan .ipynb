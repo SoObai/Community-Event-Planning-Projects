{
 "cells": [
  {
   "cell_type": "markdown",
   "id": "5c9f67e2",
   "metadata": {},
   "source": [
    "# Project \n",
    "\n",
    "\n",
    "\n",
    "|  Name                      |   \n",
    "|--------------------------  | \n",
    "|Obai Ali Abdelrahman        |"
   ]
  },
  {
   "cell_type": "markdown",
   "id": "3bdec756",
   "metadata": {},
   "source": [
    "The head of village ABC plans to hold a dodol feast for four consecutive days and have\n",
    "this feast recorded live in FB as part of promoting the village to outsiders. At the end of\n",
    "the dodol feast, the dodol will be shared with villagers and visitors to village ABC. The\n",
    "process of making the dodol, a sweet delicacy, is tedious and it requires a lot of strength\n",
    "to continuously stir the big pot of dodol to avoid it from being burnt.\n",
    "The villagers have been divided into seven teams to stir a pot of dodol on a rotation\n",
    "basis for the next four days. The pot of dodol will be stirred by one team at one time.\n",
    "Each team will stir the pot of dodol for four hours before another team takes over the\n",
    "task of stirring the pot of dodol. Ideally, no team will stir the pot of dodol for more than\n",
    "4 hours a day so that each team gets sufficient rest before their next turn to stir the pot\n",
    "of dodol. Each team will stir the pot of dodol for at least 8 hours during the entire dodol\n",
    "feast."
   ]
  },
  {
   "cell_type": "markdown",
   "id": "1d97ca88",
   "metadata": {},
   "source": [
    "import libraries"
   ]
  },
  {
   "cell_type": "code",
   "execution_count": 7,
   "id": "f238ea59",
   "metadata": {},
   "outputs": [],
   "source": [
    "import random"
   ]
  },
  {
   "cell_type": "markdown",
   "id": "4bff2736",
   "metadata": {},
   "source": [
    "Initialize variables"
   ]
  },
  {
   "cell_type": "code",
   "execution_count": 14,
   "id": "eacbb1e8",
   "metadata": {},
   "outputs": [],
   "source": [
    "days = [\"Day1\", \"Day2\", \"Day3\", \"Day4\"]\n",
    "teams = [\"Team1\", \"Team2\", \"Team3\", \"Team4\", \"Team5\", \"Team6\", \"Team7\"]\n",
    "assignments = {}\n",
    "defaulters=[\"Team1\", \"Team2\", \"Team3\", \"Team4\", \"Team5\", \"Team6\", \"Team7\"]\n",
    "total_hours={}\n",
    "minimum_hours=8"
   ]
  },
  {
   "cell_type": "markdown",
   "id": "223affca",
   "metadata": {},
   "source": [
    "Initialize assignments"
   ]
  },
  {
   "cell_type": "code",
   "execution_count": 15,
   "id": "82a3b452",
   "metadata": {},
   "outputs": [],
   "source": [
    "for day in days:\n",
    "    assignments[day] = []\n",
    "for team in teams:\n",
    "    total_hours[team]=0"
   ]
  },
  {
   "cell_type": "markdown",
   "id": "16c07236",
   "metadata": {},
   "source": [
    "Define constraints"
   ]
  },
  {
   "cell_type": "code",
   "execution_count": 16,
   "id": "2bbf04cf",
   "metadata": {},
   "outputs": [],
   "source": [
    "def valid_assignment(day, team):\n",
    "    # Constraint 1: Each team should stir the pot for exactly 4 hours on their assigned day\n",
    "    if team in assignments[day]:\n",
    "        return False\n",
    "\n",
    "    # Constraint 4: Each day should have at least 3 teams assigned\n",
    "    if len(assignments[day]) >= 4:\n",
    "        return False\n",
    "    # Constraint 2: Each team should stir the pot for at least 8 hours during the entire feast\n",
    "\n",
    "    if total_hours[team] + 4 >= minimum_hours :\n",
    "        if team not in defaulters:\n",
    "            defaulters.remove(team)\n",
    "\n",
    "    total_hours[team]+=4\n",
    "    return True\n"
   ]
  },
  {
   "cell_type": "markdown",
   "id": "cee3bed7",
   "metadata": {},
   "source": [
    "Backtracking search function"
   ]
  },
  {
   "cell_type": "code",
   "execution_count": 17,
   "id": "b115ac1c",
   "metadata": {},
   "outputs": [],
   "source": [
    "def backtrack_search(day_index):\n",
    "        # Base case: All days assigned\n",
    "    if day_index == len(days):\n",
    "        return True\n",
    "\n",
    "    day = days[day_index]\n",
    "\n",
    "        # Try assigning each team to the current day\n",
    "    for t in range(len(teams)*3):\n",
    "        count = 0\n",
    "        while (count<4):\n",
    "            if len(defaulters)==0:\n",
    "                team=random.choice(teams)\n",
    "            else:\n",
    "                team=random.choice(defaulters)\n",
    "            if valid_assignment(day,team):\n",
    "                assignments[day].append(team)\n",
    "                count+=1\n",
    "                # Recurse to the next day\n",
    "        if backtrack_search(day_index + 1):\n",
    "            return True\n",
    "\n",
    "        # Undo assignment if the solution was not found\n",
    "        assignments[day].remove(team)\n",
    "\n",
    "    return False"
   ]
  },
  {
   "cell_type": "markdown",
   "id": "6ead2fc0",
   "metadata": {},
   "source": [
    "Start the backtracking search"
   ]
  },
  {
   "cell_type": "code",
   "execution_count": 18,
   "id": "3ea1c6c9",
   "metadata": {},
   "outputs": [
    {
     "name": "stdout",
     "output_type": "stream",
     "text": [
      "{'Day1': ['Team4', 'Team2', 'Team1', 'Team3'], 'Day2': ['Team7', 'Team3', 'Team4', 'Team6'], 'Day3': ['Team2', 'Team5', 'Team1', 'Team7'], 'Day4': ['Team6', 'Team5', 'Team7', 'Team1']}\n"
     ]
    }
   ],
   "source": [
    "if backtrack_search(0):\n",
    "    # Solution found    \n",
    "    print(assignments)\n",
    "    \n",
    "else:\n",
    "    # No valid solution found\n",
    "    print(\"No valid solution exists.\")"
   ]
  }
 ],
 "metadata": {
  "kernelspec": {
   "display_name": "Python 3 (ipykernel)",
   "language": "python",
   "name": "python3"
  },
  "language_info": {
   "codemirror_mode": {
    "name": "ipython",
    "version": 3
   },
   "file_extension": ".py",
   "mimetype": "text/x-python",
   "name": "python",
   "nbconvert_exporter": "python",
   "pygments_lexer": "ipython3",
   "version": "3.10.4"
  }
 },
 "nbformat": 4,
 "nbformat_minor": 5
}
