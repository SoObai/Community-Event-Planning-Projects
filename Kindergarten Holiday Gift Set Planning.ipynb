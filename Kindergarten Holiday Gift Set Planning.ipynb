{
 "cells": [
  {
   "cell_type": "markdown",
   "id": "1006d398",
   "metadata": {},
   "source": [
    "# Project \n",
    "\n",
    "|  Name                      | \n",
    "|--------------------------  |\n",
    "|Obai Ali Abdelrahman        |"
   ]
  },
  {
   "cell_type": "markdown",
   "id": "15cf35e4",
   "metadata": {},
   "source": [
    "# Amazing Holiday Sets\n",
    "\n",
    "In preparation for the year-end school holidays in November 2023, I was approached by a kindergarten teacher seeking assistance in preparing amazing holiday gift sets for her class of 25 students. The class consists of 15 girls and 10 boys. The teacher allocated a total budget of RM200.00 for all 25 holiday sets.\n",
    "\n",
    "- Budget for 25 holiday sets = RM 200.00\n",
    "- Each holiday set must be wrapped using a sheet of paper i.e. blue wrapper for\n",
    "boy’s holiday set and pink wrapper for girl’s holiday set. Each wrapper cost\n",
    "RM1.00\n",
    "- Each holiday set should have at least 2 items being stationery\n",
    "The following is her list of choice of items to be packed as part of holiday set and their\n",
    "prices per unit.\n",
    "\n",
    "\n",
    "|No| Item |Price per unit (RM)|\n",
    "|--|------|-----|\n",
    "|1 |Chipsmore Biscuit| 2.00|\n",
    "|2 |2B pencil |1.00|\n",
    "|3 |Color pencil| 3.00|\n",
    "|4 |Magic pen| 3.00|\n",
    "|5 |Potato chip |2.00|\n",
    "|6 |Milo packet |1.00|\n",
    "|7 |Mini sketch book |2.00|\n",
    "|8 |Milk biscuit| 3.00|"
   ]
  },
  {
   "cell_type": "markdown",
   "id": "b999f891",
   "metadata": {},
   "source": [
    "# Genetic Algorithm"
   ]
  },
  {
   "cell_type": "markdown",
   "id": "57374866",
   "metadata": {},
   "source": [
    "import libraries"
   ]
  },
  {
   "cell_type": "code",
   "execution_count": 9,
   "id": "664a7c1a",
   "metadata": {},
   "outputs": [],
   "source": [
    "import random"
   ]
  },
  {
   "cell_type": "markdown",
   "id": "c0351f74",
   "metadata": {},
   "source": [
    "Item list with their prices"
   ]
  },
  {
   "cell_type": "code",
   "execution_count": 10,
   "id": "79bae4c9",
   "metadata": {},
   "outputs": [],
   "source": [
    "items = {\n",
    "    \"Mini sketch book\": 2.00,\n",
    "    \"2B pencil\": 1.00,\n",
    "    \"Color pencil\": 3.00,\n",
    "    \"Magic pen\": 3.00,\n",
    "    \"Potato chip\": 2.00,\n",
    "    \"Milo packet\": 1.00,\n",
    "    \"Chipsmore Biscuit\": 2.00,\n",
    "    \"Milk biscuit\": 3.00\n",
    "}"
   ]
  },
  {
   "cell_type": "markdown",
   "id": "dfe4a00d",
   "metadata": {},
   "source": [
    "Constants"
   ]
  },
  {
   "cell_type": "code",
   "execution_count": 37,
   "id": "8651df77",
   "metadata": {},
   "outputs": [],
   "source": [
    "POPULATION_SIZE = 100\n",
    "BUDGET = 200.00\n",
    "MIN_STATIONERY_COUNT = 2\n",
    "MIN_FOOD_COUNT=1\n",
    "NUM_GEN = 50"
   ]
  },
  {
   "cell_type": "markdown",
   "id": "87a3efc9",
   "metadata": {},
   "source": [
    "Chromosome representation"
   ]
  },
  {
   "cell_type": "code",
   "execution_count": 12,
   "id": "724a4e57",
   "metadata": {},
   "outputs": [],
   "source": [
    "chromosome_length = len(items)"
   ]
  },
  {
   "cell_type": "markdown",
   "id": "693eb2e7",
   "metadata": {},
   "source": [
    "defined create initial population function "
   ]
  },
  {
   "cell_type": "code",
   "execution_count": 13,
   "id": "74e9e2c6",
   "metadata": {},
   "outputs": [],
   "source": [
    "def create_initial_population():\n",
    "    population = []\n",
    "    for _ in range(POPULATION_SIZE):\n",
    "        chromosome = [random.randint(0, 1) for _ in range(chromosome_length)]\n",
    "        print (chromosome)\n",
    "        population.append(chromosome)\n",
    "    return population"
   ]
  },
  {
   "cell_type": "markdown",
   "id": "bd9e4514",
   "metadata": {},
   "source": [
    "defined calculate_fitness function "
   ]
  },
  {
   "cell_type": "code",
   "execution_count": 14,
   "id": "f071ca4b",
   "metadata": {},
   "outputs": [],
   "source": [
    "def calculate_fitness(chromosome):\n",
    "    cost = 0\n",
    "    stationery_count = 0\n",
    "    food_count=0\n",
    "\n",
    "    for i in range(chromosome_length):\n",
    "        if chromosome[i] == 1:\n",
    "            cost += items[list(items.keys())[i]]\n",
    "            if i < 4:\n",
    "                stationery_count += 1\n",
    "            else:\n",
    "                food_count+=1\n",
    "\n",
    "    fitness_score = 0\n",
    "    cost=cost + 1\n",
    "    cost = cost* 25\n",
    "    if cost <= BUDGET:\n",
    "        fitness_score += 1\n",
    "    if cost>= BUDGET - 15:\n",
    "        fitness_score+=1\n",
    "        \n",
    "    if stationery_count >= MIN_STATIONERY_COUNT:\n",
    "        fitness_score+=1\n",
    "    if food_count>=MIN_FOOD_COUNT:\n",
    "        fitness_score+=1\n",
    "\n",
    "    return fitness_score"
   ]
  },
  {
   "cell_type": "markdown",
   "id": "bbd968e9",
   "metadata": {},
   "source": [
    "defined roulette wheel selection method "
   ]
  },
  {
   "cell_type": "code",
   "execution_count": 15,
   "id": "0aca189d",
   "metadata": {},
   "outputs": [],
   "source": [
    "def roulette_wheel_selection(population):\n",
    "    fitness_scores = [calculate_fitness(chromosome) for chromosome in population]\n",
    "    total_fitness = sum(fitness_scores)\n",
    "    probabilities = [score / total_fitness for score in fitness_scores]\n",
    "\n",
    "    selected_indices = random.choices(range(len(population)), probabilities, k=2)\n",
    "    return population[selected_indices[0]], population[selected_indices[1]]\n"
   ]
  },
  {
   "cell_type": "markdown",
   "id": "79a58e72",
   "metadata": {},
   "source": [
    "defined tournament selection method"
   ]
  },
  {
   "cell_type": "code",
   "execution_count": 16,
   "id": "fd701938",
   "metadata": {},
   "outputs": [],
   "source": [
    "def tournament_selection(population):\n",
    "    selected = []\n",
    "    for _ in range(2):\n",
    "        tournament_size = min(5, len(population))\n",
    "        tournament = random.sample(population, tournament_size)\n",
    "        selected.append(max(tournament, key=calculate_fitness))\n",
    "    return selected[0], selected[1]\n"
   ]
  },
  {
   "cell_type": "markdown",
   "id": "6b6b7a13",
   "metadata": {},
   "source": [
    "defined one point crossover function"
   ]
  },
  {
   "cell_type": "code",
   "execution_count": 17,
   "id": "fabaf025",
   "metadata": {},
   "outputs": [],
   "source": [
    "def one_point_crossover(parent1, parent2):\n",
    "    crossover_point = random.randint(1, chromosome_size - 1)\n",
    "    child1 = parent1[:crossover_point] + parent2[crossover_point:]\n",
    "    child2 = parent2[:crossover_point] + parent1[crossover_point:]\n",
    "    return child1, child2\n"
   ]
  },
  {
   "cell_type": "markdown",
   "id": "f39b2bc7",
   "metadata": {},
   "source": [
    "defined uniform crossover method"
   ]
  },
  {
   "cell_type": "code",
   "execution_count": 18,
   "id": "59e5ba48",
   "metadata": {},
   "outputs": [],
   "source": [
    "def uniform_crossover(parent1, parent2):\n",
    "    child1 = []\n",
    "    child2 = []\n",
    "    for gene1, gene2 in zip(parent1, parent2):\n",
    "        if random.random() < 0.5:\n",
    "            child1.append(gene1)\n",
    "            child2.append(gene2)\n",
    "        else:\n",
    "            child1.append(gene2)\n",
    "            child2.append(gene1)\n",
    "    return child1, child2\n"
   ]
  },
  {
   "cell_type": "markdown",
   "id": "51bcad41",
   "metadata": {},
   "source": [
    "defined flip mutation funtion"
   ]
  },
  {
   "cell_type": "code",
   "execution_count": 19,
   "id": "21117e7d",
   "metadata": {},
   "outputs": [],
   "source": [
    "def flip_mutation(chromosome):\n",
    "    mutated_chromosome = chromosome[:]\n",
    "    mutation_point = random.randint(0, chromosome_length - 1)\n",
    "    mutated_chromosome[mutation_point] = 1 - mutated_chromosome[mutation_point]\n",
    "    return mutated_chromosome\n"
   ]
  },
  {
   "cell_type": "markdown",
   "id": "390a8c67",
   "metadata": {},
   "source": [
    "defined swap mutation method"
   ]
  },
  {
   "cell_type": "code",
   "execution_count": 20,
   "id": "73c8eddf",
   "metadata": {},
   "outputs": [],
   "source": [
    "def swap_mutation(chromosome):\n",
    "    mutated_chromosome = chromosome[:]\n",
    "    mutation_point1 = random.randint(0, chromosome_length - 1)\n",
    "    mutation_point2 = random.randint(0, chromosome_length - 1)\n",
    "    mutated_chromosome[mutation_point1], mutated_chromosome[mutation_point2] = (\n",
    "        mutated_chromosome[mutation_point2],\n",
    "        mutated_chromosome[mutation_point1],\n",
    "    )\n",
    "    return mutated_chromosome\n"
   ]
  },
  {
   "cell_type": "markdown",
   "id": "e54bc591",
   "metadata": {},
   "source": [
    "defined generate next generation of the first generation function "
   ]
  },
  {
   "cell_type": "code",
   "execution_count": 21,
   "id": "dac32a9c",
   "metadata": {},
   "outputs": [],
   "source": [
    "def generate_next_generation1(population):\n",
    "    next_generation = []\n",
    "\n",
    "    while len(next_generation) < POPULATION_SIZE:\n",
    "        parent1, parent2 = roulette_wheel_selection(population)\n",
    "        child1, child2 = one_point_crossover(parent1, parent2)\n",
    "        #child1 = flip_mutation(child1)\n",
    "        #child2 = flip_mutation(child2)\n",
    "        next_generation.append(child1)\n",
    "        next_generation.append(child2)\n",
    "    \n",
    "        x=decode_chromosome(child1)\n",
    "\n",
    "    return next_generation[:POPULATION_SIZE]\n"
   ]
  },
  {
   "cell_type": "markdown",
   "id": "59f4f68d",
   "metadata": {},
   "source": [
    "defined generate next generation of the second function "
   ]
  },
  {
   "cell_type": "code",
   "execution_count": 22,
   "id": "33e2b6e6",
   "metadata": {},
   "outputs": [],
   "source": [
    "def generate_next_generation2(population):\n",
    "    next_generation = []\n",
    "\n",
    "    while len(next_generation) < POPULATION_SIZE:\n",
    "        parent1, parent2 = tournament_selection(population)\n",
    "        child1, child2 = uniform_crossover(parent1, parent2)\n",
    "        child1 = flip_mutation(child1)\n",
    "        child2 = flip_mutation(child2)\n",
    "        next_generation.append(child1)\n",
    "        next_generation.append(child2)\n",
    "    \n",
    "        x=decode_chromosome(child1)\n",
    "\n",
    "    return next_generation[:POPULATION_SIZE]\n"
   ]
  },
  {
   "cell_type": "markdown",
   "id": "7b13c82f",
   "metadata": {},
   "source": [
    "defined evolve population of the first function "
   ]
  },
  {
   "cell_type": "code",
   "execution_count": 44,
   "id": "856a1a0c",
   "metadata": {},
   "outputs": [],
   "source": [
    "def evolve_population1():\n",
    "    population = create_initial_population()\n",
    "\n",
    "    for generation in range(1, NUM_GEN):  \n",
    "        population = generate_next_generation(population)\n",
    "        best_chromosome = max(population, key=calculate_fitness)\n",
    "        best_fitness = calculate_fitness(best_chromosome)\n",
    "        print(f\"Generation {generation}: Best Fitness = {best_fitness}\")\n",
    "#         for i in population:\n",
    "#             x=decode_chromosome(i)\n",
    "#             print(\"-----------------------------------\")\n",
    "#             for j in x:\n",
    "#                 print(j)\n",
    "    \n",
    "    return best_chromosome"
   ]
  },
  {
   "cell_type": "markdown",
   "id": "5ae0e5ff",
   "metadata": {},
   "source": [
    "defined evolve population of the second function "
   ]
  },
  {
   "cell_type": "code",
   "execution_count": 38,
   "id": "35e804e3",
   "metadata": {},
   "outputs": [],
   "source": [
    "def evolve_population2():\n",
    "    population = create_initial_population()\n",
    "\n",
    "    for generation in range(1, NUM_GEN): \n",
    "        population = generate_next_generation2(population)\n",
    "        best_chromosome = max(population, key=calculate_fitness)\n",
    "        best_fitness = calculate_fitness(best_chromosome)\n",
    "        print(f\"Generation {generation}: Best Fitness = {best_fitness}\")\n",
    "#         for i in population:\n",
    "#             x=decode_chromosome(i)\n",
    "#             print(\"-----------------------------------\")\n",
    "#             for j in x:\n",
    "#                 print(j)\n",
    "    \n",
    "    return best_chromosome"
   ]
  },
  {
   "cell_type": "markdown",
   "id": "ac354241",
   "metadata": {},
   "source": [
    "defined decode chromosome function"
   ]
  },
  {
   "cell_type": "code",
   "execution_count": 40,
   "id": "f4d2b30a",
   "metadata": {},
   "outputs": [],
   "source": [
    "def decode_chromosome(chromosome):\n",
    "    holiday_set = []\n",
    "    for i, gene in enumerate(chromosome):\n",
    "        if i < chromosome_length and gene == 1:\n",
    "            holiday_set.append(list(items.keys())[i])\n",
    "    return holiday_set"
   ]
  },
  {
   "cell_type": "markdown",
   "id": "be7a4a83",
   "metadata": {},
   "source": [
    "Run the algorithm"
   ]
  },
  {
   "cell_type": "code",
   "execution_count": 41,
   "id": "2ccccdb0",
   "metadata": {},
   "outputs": [
    {
     "name": "stdout",
     "output_type": "stream",
     "text": [
      "[1, 1, 0, 1, 0, 0, 1, 0]\n",
      "[1, 1, 0, 1, 1, 0, 1, 0]\n",
      "[0, 1, 1, 1, 1, 1, 0, 0]\n",
      "[0, 1, 0, 0, 1, 1, 1, 1]\n",
      "[1, 0, 0, 1, 1, 0, 0, 1]\n",
      "[0, 1, 0, 1, 0, 0, 1, 1]\n",
      "[1, 1, 0, 0, 1, 1, 1, 1]\n",
      "[1, 1, 1, 0, 0, 0, 0, 1]\n",
      "[0, 0, 1, 1, 1, 0, 1, 1]\n",
      "[0, 0, 0, 0, 1, 1, 1, 1]\n",
      "[1, 0, 0, 1, 0, 0, 0, 0]\n",
      "[1, 1, 0, 0, 1, 1, 1, 0]\n",
      "[0, 0, 1, 0, 1, 0, 0, 1]\n",
      "[0, 0, 1, 0, 0, 1, 1, 0]\n",
      "[1, 1, 0, 0, 1, 0, 1, 0]\n",
      "[0, 1, 1, 1, 0, 0, 1, 0]\n",
      "[0, 1, 1, 1, 1, 1, 1, 0]\n",
      "[0, 0, 1, 0, 0, 0, 1, 1]\n",
      "[0, 1, 0, 1, 0, 0, 0, 0]\n",
      "[0, 0, 1, 1, 1, 1, 0, 0]\n",
      "[0, 0, 0, 0, 0, 0, 0, 0]\n",
      "[0, 1, 1, 1, 0, 0, 0, 0]\n",
      "[0, 0, 1, 0, 0, 1, 1, 1]\n",
      "[1, 1, 0, 1, 1, 0, 0, 1]\n",
      "[1, 0, 0, 1, 1, 0, 0, 1]\n",
      "[0, 0, 1, 0, 0, 1, 1, 1]\n",
      "[0, 1, 0, 0, 1, 1, 0, 0]\n",
      "[1, 1, 0, 0, 1, 1, 0, 1]\n",
      "[1, 1, 1, 1, 0, 1, 1, 1]\n",
      "[1, 1, 1, 1, 1, 0, 1, 1]\n",
      "[1, 0, 1, 0, 0, 0, 1, 1]\n",
      "[1, 0, 0, 0, 0, 1, 1, 1]\n",
      "[0, 1, 0, 0, 0, 0, 1, 1]\n",
      "[1, 0, 0, 0, 0, 0, 1, 1]\n",
      "[1, 1, 0, 0, 0, 0, 1, 0]\n",
      "[0, 0, 1, 0, 0, 1, 1, 1]\n",
      "[0, 1, 1, 0, 1, 1, 1, 0]\n",
      "[0, 0, 1, 1, 1, 1, 1, 1]\n",
      "[0, 0, 0, 1, 0, 0, 1, 1]\n",
      "[0, 0, 0, 0, 0, 1, 0, 1]\n",
      "[1, 0, 0, 1, 1, 1, 0, 0]\n",
      "[1, 1, 1, 1, 0, 0, 1, 1]\n",
      "[1, 0, 0, 0, 1, 1, 0, 0]\n",
      "[0, 0, 0, 0, 1, 0, 0, 0]\n",
      "[1, 1, 0, 1, 0, 1, 0, 1]\n",
      "[1, 1, 1, 1, 0, 0, 1, 1]\n",
      "[1, 0, 0, 0, 0, 1, 1, 1]\n",
      "[1, 1, 1, 1, 0, 1, 1, 0]\n",
      "[0, 0, 1, 1, 0, 1, 1, 1]\n",
      "[0, 1, 0, 0, 1, 0, 0, 0]\n",
      "[0, 1, 1, 1, 1, 0, 0, 1]\n",
      "[0, 0, 1, 0, 1, 1, 1, 1]\n",
      "[0, 1, 0, 1, 1, 1, 1, 1]\n",
      "[1, 1, 0, 0, 1, 1, 1, 0]\n",
      "[1, 0, 1, 1, 1, 0, 1, 1]\n",
      "[1, 1, 0, 0, 1, 0, 0, 0]\n",
      "[1, 1, 1, 0, 0, 1, 1, 0]\n",
      "[0, 0, 0, 0, 1, 0, 0, 1]\n",
      "[0, 0, 1, 1, 1, 0, 0, 1]\n",
      "[1, 1, 0, 0, 1, 0, 0, 1]\n",
      "[1, 1, 1, 0, 1, 0, 0, 0]\n",
      "[1, 1, 0, 1, 0, 0, 1, 1]\n",
      "[1, 1, 1, 0, 1, 0, 0, 1]\n",
      "[0, 0, 0, 1, 0, 1, 1, 1]\n",
      "[1, 0, 0, 0, 0, 1, 0, 1]\n",
      "[1, 1, 1, 0, 1, 0, 0, 1]\n",
      "[0, 1, 1, 0, 1, 0, 1, 1]\n",
      "[1, 1, 1, 1, 0, 1, 1, 1]\n",
      "[1, 0, 1, 1, 0, 0, 1, 0]\n",
      "[1, 0, 1, 0, 1, 1, 0, 1]\n",
      "[0, 0, 0, 0, 0, 1, 1, 0]\n",
      "[1, 1, 0, 1, 0, 0, 1, 1]\n",
      "[0, 1, 1, 0, 1, 1, 0, 0]\n",
      "[0, 1, 1, 1, 1, 1, 0, 0]\n",
      "[0, 1, 0, 0, 0, 0, 1, 1]\n",
      "[0, 0, 1, 1, 1, 1, 1, 1]\n",
      "[0, 1, 1, 1, 0, 1, 1, 0]\n",
      "[0, 1, 1, 1, 1, 1, 1, 1]\n",
      "[1, 1, 0, 0, 1, 1, 0, 1]\n",
      "[0, 1, 1, 1, 0, 1, 1, 1]\n",
      "[1, 1, 1, 0, 0, 0, 1, 0]\n",
      "[0, 0, 0, 0, 1, 0, 0, 1]\n",
      "[1, 1, 1, 1, 1, 1, 1, 1]\n",
      "[1, 0, 0, 0, 1, 0, 1, 0]\n",
      "[1, 0, 0, 0, 1, 0, 0, 0]\n",
      "[0, 0, 1, 0, 1, 1, 1, 1]\n",
      "[0, 0, 0, 1, 1, 0, 1, 0]\n",
      "[0, 1, 1, 0, 1, 1, 0, 0]\n",
      "[1, 1, 1, 1, 1, 0, 0, 0]\n",
      "[0, 0, 1, 0, 1, 0, 1, 1]\n",
      "[0, 0, 0, 0, 1, 0, 0, 0]\n",
      "[1, 1, 1, 1, 0, 0, 0, 1]\n",
      "[0, 1, 1, 0, 1, 1, 1, 1]\n",
      "[1, 1, 0, 1, 1, 1, 1, 1]\n",
      "[1, 1, 1, 0, 0, 1, 0, 1]\n",
      "[1, 1, 0, 0, 0, 0, 0, 1]\n",
      "[1, 1, 0, 1, 1, 0, 1, 1]\n",
      "[1, 1, 0, 0, 1, 0, 1, 0]\n",
      "[1, 0, 0, 1, 1, 1, 0, 1]\n",
      "[1, 0, 0, 0, 0, 0, 0, 1]\n",
      "Generation 1: Best Fitness = 4\n",
      "Generation 2: Best Fitness = 4\n",
      "Generation 3: Best Fitness = 4\n",
      "Generation 4: Best Fitness = 4\n",
      "Generation 5: Best Fitness = 4\n",
      "Generation 6: Best Fitness = 4\n",
      "Generation 7: Best Fitness = 4\n",
      "Generation 8: Best Fitness = 4\n",
      "Generation 9: Best Fitness = 4\n",
      "Generation 10: Best Fitness = 4\n",
      "Generation 11: Best Fitness = 4\n",
      "Generation 12: Best Fitness = 4\n",
      "Generation 13: Best Fitness = 4\n",
      "Generation 14: Best Fitness = 4\n",
      "Generation 15: Best Fitness = 4\n",
      "Generation 16: Best Fitness = 4\n",
      "Generation 17: Best Fitness = 4\n",
      "Generation 18: Best Fitness = 4\n",
      "Generation 19: Best Fitness = 4\n",
      "Generation 20: Best Fitness = 4\n",
      "Generation 21: Best Fitness = 4\n",
      "Generation 22: Best Fitness = 4\n",
      "Generation 23: Best Fitness = 4\n",
      "Generation 24: Best Fitness = 4\n",
      "Generation 25: Best Fitness = 4\n",
      "Generation 26: Best Fitness = 4\n",
      "Generation 27: Best Fitness = 4\n",
      "Generation 28: Best Fitness = 4\n",
      "Generation 29: Best Fitness = 4\n",
      "Generation 30: Best Fitness = 4\n",
      "Generation 31: Best Fitness = 4\n",
      "Generation 32: Best Fitness = 4\n",
      "Generation 33: Best Fitness = 4\n",
      "Generation 34: Best Fitness = 4\n",
      "Generation 35: Best Fitness = 4\n",
      "Generation 36: Best Fitness = 4\n",
      "Generation 37: Best Fitness = 4\n",
      "Generation 38: Best Fitness = 4\n",
      "Generation 39: Best Fitness = 4\n",
      "Generation 40: Best Fitness = 4\n",
      "Generation 41: Best Fitness = 4\n",
      "Generation 42: Best Fitness = 4\n",
      "Generation 43: Best Fitness = 4\n",
      "Generation 44: Best Fitness = 4\n",
      "Generation 45: Best Fitness = 4\n",
      "Generation 46: Best Fitness = 4\n",
      "Generation 47: Best Fitness = 4\n",
      "Generation 48: Best Fitness = 4\n",
      "Generation 49: Best Fitness = 4\n"
     ]
    }
   ],
   "source": [
    "best_chromosome = evolve_population2()\n",
    "best_holiday_set = decode_chromosome(best_chromosome)\n",
    "#create_initial_population()\n"
   ]
  },
  {
   "cell_type": "markdown",
   "id": "7c72a7be",
   "metadata": {},
   "source": [
    "Disply the result"
   ]
  },
  {
   "cell_type": "code",
   "execution_count": 43,
   "id": "9389bfc9",
   "metadata": {},
   "outputs": [
    {
     "name": "stdout",
     "output_type": "stream",
     "text": [
      "\n",
      "Best Holiday Set:\n",
      "Mini sketch book\n",
      "2B pencil\n",
      "Color pencil\n",
      "Milo packet\n"
     ]
    }
   ],
   "source": [
    "print(\"\\nBest Holiday Set:\")\n",
    "for item in best_holiday_set:\n",
    "    print(item)"
   ]
  }
 ],
 "metadata": {
  "kernelspec": {
   "display_name": "Python 3 (ipykernel)",
   "language": "python",
   "name": "python3"
  },
  "language_info": {
   "codemirror_mode": {
    "name": "ipython",
    "version": 3
   },
   "file_extension": ".py",
   "mimetype": "text/x-python",
   "name": "python",
   "nbconvert_exporter": "python",
   "pygments_lexer": "ipython3",
   "version": "3.10.4"
  }
 },
 "nbformat": 4,
 "nbformat_minor": 5
}
